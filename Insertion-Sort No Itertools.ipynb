{
 "cells": [
  {
   "cell_type": "code",
   "execution_count": 2,
   "metadata": {},
   "outputs": [],
   "source": [
    "import numpy as np\n",
    "import matplotlib.pyplot as plt\n",
    "import itertools\n",
    "import time\n",
    "\n",
    "total = 0\n",
    "npermut = 0\n",
    "prob = []\n",
    "cases = []\n",
    "data = []\n",
    "v = []"
   ]
  },
  {
   "cell_type": "code",
   "execution_count": 3,
   "metadata": {},
   "outputs": [],
   "source": [
    "def isortSteps(a):\n",
    "    v = []\n",
    "    for i in range(len(a)):\n",
    "        v.append(a[i])\n",
    "        \n",
    "    steps = 0\n",
    "    for i in range(1,len(v)):\n",
    "        x = v[i]\n",
    "        j = i-1\n",
    "        while (j > -1) and (v[j] > x):\n",
    "            v[j+1] = v[j]\n",
    "            j = j -1\n",
    "            steps = steps + 3\n",
    "        steps = steps + 1\n",
    "        v[j+1] = x\n",
    "        steps = steps + 4\n",
    "    steps = steps + 1\n",
    "    return steps"
   ]
  },
  {
   "cell_type": "code",
   "execution_count": 4,
   "metadata": {},
   "outputs": [],
   "source": [
    "def swap(v,i,j):\n",
    "    t = 0\n",
    "    t = v[i]\n",
    "    v[i] = v[j]\n",
    "    v[j] = t"
   ]
  },
  {
   "cell_type": "code",
   "execution_count": 5,
   "metadata": {},
   "outputs": [],
   "source": [
    "def perm(v,i,n):\n",
    "    \n",
    "    j = 0\n",
    "    k = 0\n",
    "    l = 0\n",
    "\n",
    "    if i == n:\n",
    "      global npermut \n",
    "      npermut += 1\n",
    "      k = isortSteps(v)\n",
    "      global total\n",
    "      total =  total + k\n",
    "      global cases\n",
    "      cases.append(k);\n",
    "      global data\n",
    "      data.append(k);\n",
    "    else:  \n",
    "        for j in range (i,n):\n",
    "            swap(v,i,j)\n",
    "            perm(v,i+1,n)\n",
    "            swap(v,i,j)"
   ]
  },
  {
   "cell_type": "code",
   "execution_count": 6,
   "metadata": {},
   "outputs": [],
   "source": [
    "n = 4\n",
    "\n",
    "for k in range(0,int(n)):\n",
    "    v.append(k+1)"
   ]
  },
  {
   "cell_type": "code",
   "execution_count": 7,
   "metadata": {},
   "outputs": [
    {
     "name": "stdout",
     "output_type": "stream",
     "text": [
      "Average Steps: 25.0\n"
     ]
    },
    {
     "data": {
      "image/png": "[encoded data removed]",
      "text/plain": [
       "<Figure size 432x288 with 1 Axes>"
      ]
     },
     "metadata": {},
     "output_type": "display_data"
    }
   ],
   "source": [
    "perm(v,0,int(n))\n",
    "\n",
    "plt.plot(data)\n",
    "plt.xlabel('Permutation N')\n",
    "plt.ylabel('Steps')\n",
    "avg = np.mean(data)\n",
    "print  (\"Average Steps: \" + str(avg))\n"
   ]
  },
  {
   "cell_type": "code",
   "execution_count": 8,
   "metadata": {},
   "outputs": [
    {
     "data": {
      "text/plain": [
       "<matplotlib.legend.Legend at 0x7dd5f28>"
      ]
     },
     "execution_count": 8,
     "metadata": {},
     "output_type": "execute_result"
    },
    {
     "data": {
      "image/png": "[encoded data removed]",
      "text/plain": [
       "<Figure size 432x288 with 1 Axes>"
      ]
     },
     "metadata": {},
     "output_type": "display_data"
    }
   ],
   "source": [
    "plt.hist(cases,20)\n",
    "plt.xlabel('steps')\n",
    "plt.ylabel('Repetitions')\n",
    "plt.legend(['permutations insertion sort '])"
   ]
  },
  {
   "cell_type": "code",
   "execution_count": 9,
   "metadata": {},
   "outputs": [],
   "source": [
    "total = 0\n",
    "npermut = 0\n",
    "prob = []\n",
    "cases = []\n",
    "data = []\n",
    "v = []"
   ]
  },
  {
   "cell_type": "code",
   "execution_count": 10,
   "metadata": {},
   "outputs": [],
   "source": [
    "def isortSteps2(a):\n",
    "    v = []\n",
    "    for i in range(len(a)):\n",
    "        v.append(a[i])\n",
    "        \n",
    "    steps = 0\n",
    "    for i in range(1,len(v)):\n",
    "        x = v[i]\n",
    "        j = i-1\n",
    "        while (j > -1) and (v[j] > x):\n",
    "            v[j+1] = v[j]\n",
    "            j = j -1\n",
    "            steps = steps + 1\n",
    "        steps = steps + 1\n",
    "        v[j+1] = x\n",
    "    return steps"
   ]
  },
  {
   "cell_type": "code",
   "execution_count": 11,
   "metadata": {},
   "outputs": [],
   "source": [
    "def perm2(v,i,n):\n",
    "    \n",
    "    j = 0\n",
    "    k = 0\n",
    "    l = 0\n",
    "\n",
    "    if i == n:\n",
    "      global npermut \n",
    "      npermut += 1\n",
    "      k = isortSteps2(v)\n",
    "      global total\n",
    "      total =  total + k\n",
    "      global cases\n",
    "      cases.append(k);\n",
    "      global data\n",
    "      data.append(k);\n",
    "    else:  \n",
    "        for j in range (i,n):\n",
    "            swap(v,i,j)\n",
    "            perm2(v,i+1,n)\n",
    "            swap(v,i,j)"
   ]
  },
  {
   "cell_type": "code",
   "execution_count": 12,
   "metadata": {},
   "outputs": [],
   "source": [
    "n = 4\n",
    "\n",
    "for k in range(0,int(n)):\n",
    "    v.append(k+1)"
   ]
  },
  {
   "cell_type": "code",
   "execution_count": 13,
   "metadata": {},
   "outputs": [
    {
     "name": "stdout",
     "output_type": "stream",
     "text": [
      "Average Steps: 6.0\n"
     ]
    },
    {
     "data": {
      "image/png": "[encoded data removed]",
      "text/plain": [
       "<Figure size 432x288 with 1 Axes>"
      ]
     },
     "metadata": {},
     "output_type": "display_data"
    }
   ],
   "source": [
    "perm2(v,0,int(n))\n",
    "\n",
    "plt.plot(data)\n",
    "plt.xlabel('Permutation N')\n",
    "plt.ylabel('Steps')\n",
    "avg = np.mean(data)\n",
    "print  (\"Average Steps: \" + str(avg))"
   ]
  },
  {
   "cell_type": "code",
   "execution_count": 14,
   "metadata": {},
   "outputs": [
    {
     "data": {
      "text/plain": [
       "<matplotlib.legend.Legend at 0x7f146d8>"
      ]
     },
     "execution_count": 14,
     "metadata": {},
     "output_type": "execute_result"
    },
    {
     "data": {
      "image/png": "[encoded data removed]",
      "text/plain": [
       "<Figure size 432x288 with 1 Axes>"
      ]
     },
     "metadata": {},
     "output_type": "display_data"
    }
   ],
   "source": [
    "plt.hist(cases,20)\n",
    "plt.xlabel('steps')\n",
    "plt.ylabel('Repetitions')\n",
    "plt.legend(['permutations insertion sort '])"
   ]
  },
  {
   "cell_type": "code",
   "execution_count": 15,
   "metadata": {},
   "outputs": [],
   "source": [
    "total = 0\n",
    "npermut = 0\n",
    "prob = []\n",
    "cases = []\n",
    "data = []\n",
    "v = []"
   ]
  },
  {
   "cell_type": "code",
   "execution_count": 16,
   "metadata": {},
   "outputs": [],
   "source": [
    "def isortSteps3(a):\n",
    "    v = []\n",
    "    for i in range(len(a)):\n",
    "        v.append(a[i])\n",
    "        \n",
    "    steps = 0\n",
    "    for i in range(1,len(v)):\n",
    "        x = v[i]\n",
    "        j = i-1\n",
    "        while (j > -1) and (v[j] > x):\n",
    "            v[j+1] = v[j]\n",
    "            j = j -1\n",
    "            steps = steps + 1\n",
    "        if (j != -1):\n",
    "            steps = steps + 1\n",
    "        v[j+1] = x\n",
    "    return steps"
   ]
  },
  {
   "cell_type": "code",
   "execution_count": 17,
   "metadata": {},
   "outputs": [],
   "source": [
    "def perm3(v,i,n):\n",
    "    \n",
    "    j = 0\n",
    "    k = 0\n",
    "    l = 0\n",
    "\n",
    "    if i == n:\n",
    "      global npermut \n",
    "      npermut += 1\n",
    "      k = isortSteps3(v)\n",
    "      global total\n",
    "      total =  total + k\n",
    "      global cases\n",
    "      cases.append(k);\n",
    "      global data\n",
    "      data.append(k);\n",
    "    else:  \n",
    "        for j in range (i,n):\n",
    "            swap(v,i,j)\n",
    "            perm3(v,i+1,n)\n",
    "            swap(v,i,j)"
   ]
  },
  {
   "cell_type": "code",
   "execution_count": 18,
   "metadata": {},
   "outputs": [
    {
     "name": "stdout",
     "output_type": "stream",
     "text": [
      "4\n"
     ]
    }
   ],
   "source": [
    "n = input()\n",
    "\n",
    "for k in range(0,int(n)):\n",
    "    v.append(k+1)"
   ]
  },
  {
   "cell_type": "code",
   "execution_count": 19,
   "metadata": {},
   "outputs": [
    {
     "name": "stdout",
     "output_type": "stream",
     "text": [
      "Average Steps: 4.916666666666667\n"
     ]
    },
    {
     "data": {
      "image/png": "[encoded data removed]",
      "text/plain": [
       "<Figure size 432x288 with 1 Axes>"
      ]
     },
     "metadata": {},
     "output_type": "display_data"
    }
   ],
   "source": [
    "perm3(v,0,int(n))\n",
    " \n",
    "plt.plot(data)\n",
    "plt.xlabel('Permutation N')\n",
    "plt.ylabel('Steps')\n",
    "avg = np.mean(data)\n",
    "print  (\"Average Steps: \" + str(avg))    "
   ]
  },
  {
   "cell_type": "code",
   "execution_count": 20,
   "metadata": {},
   "outputs": [
    {
     "data": {
      "text/plain": [
       "<matplotlib.legend.Legend at 0x81bed68>"
      ]
     },
     "execution_count": 20,
     "metadata": {},
     "output_type": "execute_result"
    },
    {
     "data": {
      "image/png": "[encoded data removed]",
      "text/plain": [
       "<Figure size 432x288 with 1 Axes>"
      ]
     },
     "metadata": {},
     "output_type": "display_data"
    }
   ],
   "source": [
    "plt.hist(cases,20)\n",
    "plt.xlabel('steps')\n",
    "plt.ylabel('Repetitions')\n",
    "plt.legend(['permutations insertion sort '])"
   ]
  },
  {
   "cell_type": "code",
   "execution_count": 21,
   "metadata": {},
   "outputs": [],
   "source": [
    "total = 0\n",
    "npermut = 0\n",
    "prob = []\n",
    "cases = []\n",
    "data = []\n",
    "v = []"
   ]
  },
  {
   "cell_type": "code",
   "execution_count": 22,
   "metadata": {},
   "outputs": [],
   "source": [
    "def isortSteps4(a):\n",
    "    v = []\n",
    "    for i in range(len(a)):\n",
    "        v.append(a[i])\n",
    "        \n",
    "    steps = 0\n",
    "    for i in range(1,len(v)):\n",
    "        x = v[i]\n",
    "        j = i-1\n",
    "        steps = steps + 1\n",
    "        while (j > -1) and (v[j] > x):\n",
    "            v[j+1] = v[j]\n",
    "            j = j -1\n",
    "            steps = steps + 1\n",
    "            \n",
    "        steps = steps + 1\n",
    "        v[j+1] = x\n",
    "    return steps"
   ]
  },
  {
   "cell_type": "code",
   "execution_count": 23,
   "metadata": {},
   "outputs": [],
   "source": [
    "def perm4(v,i,n):\n",
    "    \n",
    "    j = 0\n",
    "    k = 0\n",
    "    l = 0\n",
    "\n",
    "    if i == n:\n",
    "      global npermut \n",
    "      npermut += 1\n",
    "      k = isortSteps4(v)\n",
    "      global total\n",
    "      total =  total + k\n",
    "      global cases\n",
    "      cases.append(k);\n",
    "      global data\n",
    "      data.append(k);\n",
    "    else:  \n",
    "        for j in range (i,n):\n",
    "            swap(v,i,j)\n",
    "            perm4(v,i+1,n)\n",
    "            swap(v,i,j)"
   ]
  },
  {
   "cell_type": "code",
   "execution_count": 24,
   "metadata": {},
   "outputs": [
    {
     "name": "stdout",
     "output_type": "stream",
     "text": [
      "4\n"
     ]
    }
   ],
   "source": [
    "n = input()\n",
    "\n",
    "for k in range(0,int(n)):\n",
    "    v.append(k+1)"
   ]
  },
  {
   "cell_type": "code",
   "execution_count": 25,
   "metadata": {},
   "outputs": [
    {
     "name": "stdout",
     "output_type": "stream",
     "text": [
      "Average Steps: 9.0\n"
     ]
    },
    {
     "data": {
      "image/png": "[encoded data removed]",
      "text/plain": [
       "<Figure size 432x288 with 1 Axes>"
      ]
     },
     "metadata": {},
     "output_type": "display_data"
    }
   ],
   "source": [
    "perm4(v,0,int(n))\n",
    " \n",
    "plt.plot(data)\n",
    "plt.xlabel('Permutation N')\n",
    "plt.ylabel('Steps')\n",
    "avg = np.mean(data)\n",
    "print  (\"Average Steps: \" + str(avg)) "
   ]
  },
  {
   "cell_type": "code",
   "execution_count": 26,
   "metadata": {},
   "outputs": [
    {
     "data": {
      "text/plain": [
       "<matplotlib.legend.Legend at 0x8a03550>"
      ]
     },
     "execution_count": 26,
     "metadata": {},
     "output_type": "execute_result"
    },
    {
     "data": {
      "image/png": "[encoded data removed]",
      "text/plain": [
       "<Figure size 432x288 with 1 Axes>"
      ]
     },
     "metadata": {},
     "output_type": "display_data"
    }
   ],
   "source": [
    "plt.hist(cases,20)\n",
    "plt.xlabel('steps')\n",
    "plt.ylabel('Repetitions')\n",
    "plt.legend(['permutations insertion sort '])"
   ]
  },
  {
   "cell_type": "code",
   "execution_count": null,
   "metadata": {},
   "outputs": [],
   "source": []
  }
 ],
 "metadata": {
  "kernelspec": {
   "display_name": "Python 2",
   "language": "python",
   "name": "python2"
  },
  "language_info": {
   "codemirror_mode": {
    "name": "ipython",
    "version": 2
   },
   "file_extension": ".py",
   "mimetype": "text/x-python",
   "name": "python",
   "nbconvert_exporter": "python",
   "pygments_lexer": "ipython2",
   "version": "2.7.15"
  }
 },
 "nbformat": 4,
 "nbformat_minor": 2
}
